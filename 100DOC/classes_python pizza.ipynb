{
 "cells": [
  {
   "cell_type": "code",
   "execution_count": 3,
   "metadata": {},
   "outputs": [
    {
     "name": "stdout",
     "output_type": "stream",
     "text": [
      "Welcome to Python Pizza Deliveries!\n",
      "Total cost of pizza is $29\n"
     ]
    }
   ],
   "source": [
    "# 🚨 Don't change the code below 👇\n",
    "print(\"Welcome to Python Pizza Deliveries!\")\n",
    "size = input(\"What size pizza do you want? S, M, or L \")\n",
    "add_pepperoni = input(\"Do you want pepperoni? Y or N \")\n",
    "extra_cheese = input(\"Do you want extra cheese? Y or N \")\n",
    "# 🚨 Don't change the code above 👆\n",
    "\n",
    "#Write your code below this line 👇\n",
    "\n",
    "class Pizza:\n",
    "    def __init__(self, size, pepperoni=False, extra_cheese=False):\n",
    "        self.size = size\n",
    "        self.pepperoni = pepperoni\n",
    "        self.extra_cheese = extra_cheese\n",
    "\n",
    "    def calculate_cost(self):\n",
    "        cost = 0\n",
    "\n",
    "        # set base cost based on size\n",
    "        if self.size == \"S\":\n",
    "            cost += 15\n",
    "        elif self.size == \"M\":\n",
    "            cost += 20\n",
    "        elif self.size == \"L\":\n",
    "            cost += 25\n",
    "\n",
    "        # add cost for pepperoni based on size\n",
    "        if self.pepperoni == \"Y\":\n",
    "            if self.size == \"S\":\n",
    "                cost += 2\n",
    "            else:\n",
    "                cost += 3\n",
    "\n",
    "        # add cost for extra cheese\n",
    "        if self.extra_cheese == \"Y\":\n",
    "            cost += 1\n",
    "\n",
    "        return cost\n",
    "\n",
    "# create new pizza object\n",
    "pizza = Pizza(size.upper(), add_pepperoni.upper(), extra_cheese.upper())\n",
    "\n",
    "# calculate cost of pizza\n",
    "cost = pizza.calculate_cost()\n",
    "print(f\"Total cost of pizza is ${cost}.\")\n"
   ]
  }
 ],
 "metadata": {
  "kernelspec": {
   "display_name": "Python 3",
   "language": "python",
   "name": "python3"
  },
  "language_info": {
   "codemirror_mode": {
    "name": "ipython",
    "version": 3
   },
   "file_extension": ".py",
   "mimetype": "text/x-python",
   "name": "python",
   "nbconvert_exporter": "python",
   "pygments_lexer": "ipython3",
   "version": "3.11.2"
  },
  "orig_nbformat": 4
 },
 "nbformat": 4,
 "nbformat_minor": 2
}
