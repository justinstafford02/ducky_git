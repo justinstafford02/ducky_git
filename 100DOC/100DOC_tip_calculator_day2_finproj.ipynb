{
 "cells": [
  {
   "cell_type": "code",
   "execution_count": 14,
   "metadata": {},
   "outputs": [
    {
     "name": "stdout",
     "output_type": "stream",
     "text": [
      "Welcome to the tip calculator\n",
      "What was the total bill? $124.56\n",
      "What percentage tip would you like to give? 10, 12, 15? 12\n",
      "How many people to split the bill? 7\n",
      "The total tip is $19.93\n"
     ]
    }
   ],
   "source": [
    "#If the bill was $150.00, split between 5 people, with 12% tip.\n",
    "\n",
    "#Each person should pay (150.00 / 5) * 1.12 = 33.6\n",
    "#Format the result to 2 decimal places = 33.60\n",
    "\n",
    "#Tip: There are 2 ways to round a number. You might have to do some Googling to solve this.💪\n",
    "\n",
    "#Write your code below this line 👇\n",
    "print(\"Welcome to the tip calculator\")\n",
    "total_bill = float(input(\"What was the total bill?\"))\n",
    "print(f\"What was the total bill?  ${total_bill}\")\n",
    "tip = int(input(\"What percentage tip would you like to give? 10, 12, 15?\"))\n",
    "print(f\"What percentage tip would you like to give? 10, 12, 15?  {tip}\")\n",
    "num_people = int(input(\"How many people to split the bill?\"))\n",
    "print(f\"How many people to split the bill?  {num_people}\")\n",
    "total_tip = (tip / 100) +1\n",
    "total_bill = total_bill*total_tip/num_people\n",
    "print(f\"Each person should pay: ${total_bill:.2f}\", end='')    \n",
    "#could use round() to round to 2 decimal places\n",
    "#or \n",
    "# total_bill = \"{:.2f}\".format(total_bill)\n",
    "#print(f\"Each person should pay: ${total_bill}\")\n"
   ]
  }
 ],
 "metadata": {
  "kernelspec": {
   "display_name": "Python 3",
   "language": "python",
   "name": "python3"
  },
  "language_info": {
   "codemirror_mode": {
    "name": "ipython",
    "version": 3
   },
   "file_extension": ".py",
   "mimetype": "text/x-python",
   "name": "python",
   "nbconvert_exporter": "python",
   "pygments_lexer": "ipython3",
   "version": "3.11.2"
  },
  "orig_nbformat": 4
 },
 "nbformat": 4,
 "nbformat_minor": 2
}
