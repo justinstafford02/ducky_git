{
 "cells": [
  {
   "cell_type": "code",
   "execution_count": 9,
   "metadata": {},
   "outputs": [
    {
     "name": "stdout",
     "output_type": "stream",
     "text": [
      "John\n",
      "Doe\n",
      "1990\n"
     ]
    }
   ],
   "source": [
    "#unpacking a tuple  \n",
    "my_info = ('John', 'Doe', 1990)\n",
    "first, last, year = my_info\n",
    "print(first)\n",
    "print(last)\n",
    "print(year)"
   ]
  },
  {
   "cell_type": "code",
   "execution_count": 11,
   "metadata": {},
   "outputs": [
    {
     "name": "stdout",
     "output_type": "stream",
     "text": [
      "<class 'tuple'>\n",
      "<class 'int'>\n"
     ]
    }
   ],
   "source": [
    "#creating a one element tuple\n",
    "one_element_tuple = (1,)\n",
    "print(type(one_element_tuple))\n",
    "attempted_tuple = (1)\n",
    "print(type(attempted_tuple))"
   ]
  },
  {
   "cell_type": "code",
   "execution_count": 13,
   "metadata": {},
   "outputs": [
    {
     "name": "stdout",
     "output_type": "stream",
     "text": [
      "<zip object at 0x00000200A43ABB80>\n",
      "[('Jenny', 61), ('Alexus', 70), ('Sam', 67), ('Grace', 64)]\n"
     ]
    }
   ],
   "source": [
    "#using zip to pair two lists together into one tupled list\n",
    "names = [\"Jenny\", \"Alexus\", \"Sam\", \"Grace\"]\n",
    "heights = [61, 70, 67, 64]\n",
    "names_and_heights = zip(names, heights)\n",
    "print(names_and_heights)\n",
    "#notice that the print state returns the location of this variable in our computer's memory.\n",
    "#so, we use list(names_and_heights) to create a list of tuples.\n",
    "converted_list = list(names_and_heights)\n",
    "print(converted_list)"
   ]
  }
 ],
 "metadata": {
  "kernelspec": {
   "display_name": "Python 3",
   "language": "python",
   "name": "python3"
  },
  "language_info": {
   "codemirror_mode": {
    "name": "ipython",
    "version": 3
   },
   "file_extension": ".py",
   "mimetype": "text/x-python",
   "name": "python",
   "nbconvert_exporter": "python",
   "pygments_lexer": "ipython3",
   "version": "3.11.2"
  },
  "orig_nbformat": 4
 },
 "nbformat": 4,
 "nbformat_minor": 2
}
