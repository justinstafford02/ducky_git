{
 "cells": [
  {
   "cell_type": "code",
   "execution_count": 3,
   "metadata": {},
   "outputs": [
    {
     "name": "stdout",
     "output_type": "stream",
     "text": [
      "4\n"
     ]
    }
   ],
   "source": [
    "def how_many_a_in_li(a,li):\n",
    "    count =0\n",
    "    for i in li:\n",
    "        if i ==a:\n",
    "            count+=1\n",
    "    return count\n",
    "\n",
    "\n",
    "li = \"Mary had a little lamb\"\n",
    "print(how_many_a_in_li(\"a\", li))\n"
   ]
  },
  {
   "cell_type": "code",
   "execution_count": 14,
   "metadata": {},
   "outputs": [
    {
     "name": "stdout",
     "output_type": "stream",
     "text": [
      "Welcome to the Love Calculator!\n",
      "Your score is 53.\n"
     ]
    }
   ],
   "source": [
    "print(\"Welcome to the Love Calculator!\")\n",
    "name1 = input(\"What is your name? \\n\")\n",
    "name2 = input(\"What is their name? \\n\")\n",
    "# 🚨 Don't change the code above 👆\n",
    "\n",
    "#Write your code below this line 👇\n",
    "\n",
    "name1= name1.lower()\n",
    "name2= name2.lower()\n",
    "name_true = \"true\"\n",
    "name_love = \"love\"\n",
    "comb_name = name1 + name2\n",
    "\n",
    "def true_love(TL, name):\n",
    "    count = 0\n",
    "    for i in name:\n",
    "        if i in TL:\n",
    "            count += 1\n",
    "    return count   \n",
    "\n",
    "total_true = true_love(name_true, comb_name)\n",
    "total_love = true_love(name_love, comb_name)\n",
    "name_total = int(str(total_true) + str(total_love))\n",
    "\n",
    "if name_total < 10 or name_total > 90:\n",
    "    print(f\"Your score is {name_total}, you go together like coke and mentos.\")\n",
    "elif name_total >= 40 and name_total <= 50:\n",
    "    print(f\"Your score is {name_total}, you are alright together.\")\n",
    "else:\n",
    "    print(f\"Your score is {name_total}.\") \n",
    "    "
   ]
  }
 ],
 "metadata": {
  "kernelspec": {
   "display_name": "Python 3",
   "language": "python",
   "name": "python3"
  },
  "language_info": {
   "codemirror_mode": {
    "name": "ipython",
    "version": 3
   },
   "file_extension": ".py",
   "mimetype": "text/x-python",
   "name": "python",
   "nbconvert_exporter": "python",
   "pygments_lexer": "ipython3",
   "version": "3.11.2"
  },
  "orig_nbformat": 4,
  "vscode": {
   "interpreter": {
    "hash": "7e09721073e436e35d84ed4cdbbeb045311bd476b44317739da864ee086bb1be"
   }
  }
 },
 "nbformat": 4,
 "nbformat_minor": 2
}
