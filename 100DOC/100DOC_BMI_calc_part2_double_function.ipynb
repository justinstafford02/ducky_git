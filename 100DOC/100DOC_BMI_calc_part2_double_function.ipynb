{
 "cells": [
  {
   "cell_type": "code",
   "execution_count": 10,
   "metadata": {},
   "outputs": [
    {
     "name": "stdout",
     "output_type": "stream",
     "text": [
      "Your BMI is 29, you are slightly overweight\n"
     ]
    }
   ],
   "source": [
    "# 🚨 Don't change the code below 👇\n",
    "height = input(\"enter your height in m: \")\n",
    "weight = input(\"enter your weight in kg: \")\n",
    "# 🚨 Don't change the code above 👆\n",
    "\n",
    "#Write your code below this line 👇\n",
    "#  Declare values for height and weight first\n",
    "\n",
    "def calculate_bmi(height, weight):\n",
    "     height = float(height)\n",
    "     weight = float(weight)\n",
    "     bmi = round(weight / (height ** 2))\n",
    "     return bmi\n",
    " \n",
    "def BMI_interpretation(bmi):\n",
    "     if bmi < 18.5:\n",
    "         return (f\"Your BMI is {bmi}, you are underweight\")\n",
    "     elif bmi < 25:    \n",
    "         return (f\"Your BMI is {bmi}, you have a normal weight\")\n",
    "     elif bmi < 30:\n",
    "         return (f\"Your BMI is {bmi}, you are slightly overweight\")   \n",
    "     elif bmi < 35:\n",
    "         return (f\"Your BMI is {bmi}, you are obese\")   \n",
    "     else:\n",
    "         return (f\"Your BMI is {bmi}, you are clinically obese\")\n",
    "         \n",
    "print(BMI_interpretation(calculate_bmi(height, weight)))\n",
    " "
   ]
  }
 ],
 "metadata": {
  "kernelspec": {
   "display_name": "Python 3",
   "language": "python",
   "name": "python3"
  },
  "language_info": {
   "codemirror_mode": {
    "name": "ipython",
    "version": 3
   },
   "file_extension": ".py",
   "mimetype": "text/x-python",
   "name": "python",
   "nbconvert_exporter": "python",
   "pygments_lexer": "ipython3",
   "version": "3.11.2"
  },
  "orig_nbformat": 4
 },
 "nbformat": 4,
 "nbformat_minor": 2
}
