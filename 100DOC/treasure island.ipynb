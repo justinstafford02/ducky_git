{
 "cells": [
  {
   "cell_type": "code",
   "execution_count": null,
   "metadata": {},
   "outputs": [],
   "source": [
    "print('''\n",
    "*******************************************************************************\n",
    "          |                   |                  |                     |\n",
    " _________|________________.=\"\"_;=.______________|_____________________|_______\n",
    "|                   |  ,-\"_,=\"\"     `\"=.|                  |\n",
    "|___________________|__\"=._o`\"-._        `\"=.______________|___________________\n",
    "          |                `\"=._o`\"=._      _`\"=._                     |\n",
    " _________|_____________________:=._o \"=._.\"_.-=\"'\"=.__________________|_______\n",
    "|                   |    __.--\" , ; `\"=._o.\" ,-\"\"\"-._ \".   |\n",
    "|___________________|_._\"  ,. .` ` `` ,  `\"-._\"-._   \". '__|___________________\n",
    "          |           |o`\"=._` , \"` `; .\". ,  \"-._\"-._; ;              |\n",
    " _________|___________| ;`-.o`\"=._; .\" ` '`.\"\\` . \"-._ /_______________|_______\n",
    "|                   | |o;    `\"-.o`\"=._``  '` \" ,__.--o;   |\n",
    "|___________________|_| ;     (#) `-.o `\"=.`_.--\"_o.-; ;___|___________________\n",
    "____/______/______/___|o;._    \"      `\".o|o_.--\"    ;o;____/______/______/____\n",
    "/______/______/______/_\"=._o--._        ; | ;        ; ;/______/______/______/_\n",
    "____/______/______/______/__\"=._o--._   ;o|o;     _._;o;____/______/______/____\n",
    "/______/______/______/______/____\"=._o._; | ;_.--\"o.--\"_/______/______/______/_\n",
    "____/______/______/______/______/_____\"=.o|o_.--\"\"___/______/______/______/____\n",
    "/______/______/______/______/______/______/______/______/______/______/_____ /\n",
    "*******************************************************************************\n",
    "''')\n",
    "name = input(\"Enter your name: \").upper)\n",
    "print(f\"Welcome {name} to Treasure Island.\")\n",
    "print(f\"{name}, your mission is to find the treasure.\")\n",
    "\n",
    "#Write your code below this line 👇\n",
    "choice1 = input(\"You've just come out of a forest, and there is a road in front of you. Do you want to go left or right? (L/R): \\n\").upper()\n",
    "if choice1 == \"L\":\n",
    "    choice2 = input(f\"Okay, {name} you're now going left. Now, you've come to a lake.  Do you swim across (swim), use your magic shoes and walk across (walk), or wait for a boat(boat)? (Swim/Walk/Boat)): \\n\").upper()\n",
    "if choice2 == \"Boat\":\n",
    "    choice3 = input(f\"Okay, {name} you've cross the lake safely and are now on a deserted island.  In front of you, there is a house with 3 doors: Red, yellow, and blue. Which one do you choose? (Red/Yellow/Blue): \\n\").upper()\n",
    "if choice3 == \"red\":\n",
    "    print(f\"Oh no, {name}, when you open the door, you see a Mega Evolved Bossy Monster, who eats you and poops you out. Game over \"\\n)\n",
    "               \n",
    "    \n",
    "    "
   ]
  }
 ],
 "metadata": {
  "language_info": {
   "name": "python"
  },
  "orig_nbformat": 4
 },
 "nbformat": 4,
 "nbformat_minor": 2
}
