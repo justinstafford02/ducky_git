{
 "cells": [
  {
   "cell_type": "code",
   "execution_count": 12,
   "metadata": {},
   "outputs": [],
   "source": [
    "# Define the leap_year() function\n",
    "def leap_year(number: str):\n",
    "    a_num = int(number)\n",
    "    return (a_num % 4 == 0 and a_num % 100 != 0) or (a_num % 400 == 0)\n",
    "\n",
    "# Create the list of numbers to test\n",
    "my_list = [str(i) for i in range(4, 1001, 4)]\n",
    "\n",
    "# Test the leap_year() function on each number in the list\n",
    "results = [(number, leap_year(number)) for number in my_list]\n",
    "\n",
    "# Write the results to a file\n",
    "with open(\"g:/My Drive/Coding/Python/100DOC/leap_year_results.txt\", \"w\") as f:\n",
    "    for r in results:\n",
    "        f.write(f\"{r[0]}, {str(r[1])}\\n\")\n"
   ]
  }
 ],
 "metadata": {
  "kernelspec": {
   "display_name": "Python 3",
   "language": "python",
   "name": "python3"
  },
  "language_info": {
   "codemirror_mode": {
    "name": "ipython",
    "version": 3
   },
   "file_extension": ".py",
   "mimetype": "text/x-python",
   "name": "python",
   "nbconvert_exporter": "python",
   "pygments_lexer": "ipython3",
   "version": "3.11.2"
  },
  "orig_nbformat": 4
 },
 "nbformat": 4,
 "nbformat_minor": 2
}
