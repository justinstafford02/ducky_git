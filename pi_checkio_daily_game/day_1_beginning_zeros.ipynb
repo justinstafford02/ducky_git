{
 "cells": [
  {
   "cell_type": "code",
   "execution_count": null,
   "metadata": {},
   "outputs": [],
   "source": [
    "def beginning_zeros(a: str) -> int:\n",
    "    zero_counter = 0\n",
    "    for char in str:\n",
    "        if char == \"0\":\n",
    "            zero_counter += 1\n",
    "        else:\n",
    "            break\n",
    "        \n",
    "    return zero_counter\n",
    "\n",
    "\n",
    "print(\"Example:\")\n",
    "print(beginning_zeros(\"10\"))\n"
   ]
  },
  {
   "cell_type": "code",
   "execution_count": null,
   "metadata": {},
   "outputs": [],
   "source": [
    "\n",
    "def beginning_zeros(number: str) -> int:\n",
    "    return len(number) - len(number.lstrip('0'))\n",
    "print(\"Example:\")\n",
    "print(beginning_zeros('100'))"
   ]
  },
  {
   "cell_type": "code",
   "execution_count": null,
   "metadata": {},
   "outputs": [],
   "source": [
    "#test it out with this\n",
    "\n",
    "def beginning_zeros(a: str) -> int:\n",
    "  \n",
    "        \n",
    "    return zero_counter\n",
    "\n",
    "\n",
    "print(\"Example:\")\n",
    "print(beginning_zeros(\"10\"))\n",
    "\n",
    "# These \"asserts\" are used for self-checking\n",
    "assert beginning_zeros(\"100\") == 0\n",
    "assert beginning_zeros(\"001\") == 2\n",
    "assert beginning_zeros(\"100100\") == 0\n",
    "assert beginning_zeros(\"001001\") == 2\n",
    "assert beginning_zeros(\"012345679\") == 1\n",
    "assert beginning_zeros(\"0000\") == 4\n",
    "\n",
    "print(\"The mission is done! Click 'Check Solution' to earn rewards!\")\n"
   ]
  }
 ],
 "metadata": {
  "language_info": {
   "name": "python"
  },
  "orig_nbformat": 4
 },
 "nbformat": 4,
 "nbformat_minor": 2
}
