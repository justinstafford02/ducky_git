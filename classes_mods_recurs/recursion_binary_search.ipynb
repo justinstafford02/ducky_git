{
 "cells": [
  {
   "cell_type": "code",
   "execution_count": null,
   "metadata": {},
   "outputs": [],
   "source": [
    "def find(low, high):\n",
    "    mid = (high + low) // 2  # Midpoint of low..high\n",
    "    answer  = input(f'Is it {mid}? (l/h/y): ')\n",
    "\n",
    "    if (answer != 'l') and (answer != 'h'):  # Base case\n",
    "        print('Got it!')\n",
    "    else:\n",
    "        if answer == 'l':\n",
    "            find(low, mid)\n",
    "        else:\n",
    "            find(mid+1, high)\n",
    "\n",
    "print('Choose a number from 0 to 100.')\n",
    "print('Answer with:')\n",
    "print('   l (your num is lower)')\n",
    "print('   h (your num is higher)')\n",
    "print(' any other key (guess is right).')\n",
    "\n",
    "find(0, 100)"
   ]
  }
 ],
 "metadata": {
  "language_info": {
   "name": "python"
  },
  "orig_nbformat": 4
 },
 "nbformat": 4,
 "nbformat_minor": 2
}
