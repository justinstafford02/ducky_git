{
 "cells": [
  {
   "cell_type": "code",
   "execution_count": null,
   "metadata": {},
   "outputs": [],
   "source": [
    "Encapsulation, Abstraction, Inheritance, Polymorphism"
   ]
  },
  {
   "cell_type": "code",
   "execution_count": null,
   "metadata": {},
   "outputs": [],
   "source": [
    "A unit has property(variables) and method(function))\n",
    "car example:\n",
    "    property = make, model, year, price\n",
    "    method = start(), stop(), move()\n",
    "    \n",
    "localstorage example:\n",
    "length example:\n",
    "method example: setitem(), getitem(), removeitem(), clear()\n",
    "\n",
    "\n",
    "let employee = {\n",
    "    basesalary: 10000,\n",
    "    overtimes: 0,\n",
    "    rate: 0.05,\n",
    "Getwage: function() {\n",
    "    return this.basesalary + (this.rate * this.overtimes);\n",
    "}\n",
    "}; \n",
    "employee.getwage(); // 15000\n",
    "\n",
    "\n",
    "    \n"
   ]
  },
  {
   "cell_type": "code",
   "execution_count": null,
   "metadata": {},
   "outputs": [],
   "source": [
    "abstraction = \"\"\""
   ]
  },
  {
   "cell_type": "code",
   "execution_count": null,
   "metadata": {},
   "outputs": [],
   "source": [
    "Inheritance \n",
    "elements of a class inherit from another class.\n",
    "helps use eliminate duplicate inheritance.\n",
    "\n"
   ]
  },
  {
   "cell_type": "code",
   "execution_count": null,
   "metadata": {},
   "outputs": [],
   "source": [
    "Polymorphism - many forms \n",
    "rendering will apply to many types of objects and will not be able to render the same object twice.\n",
    "element.render() will render the element and all its children.\n",
    "\n"
   ]
  }
 ],
 "metadata": {
  "language_info": {
   "name": "python"
  },
  "orig_nbformat": 4
 },
 "nbformat": 4,
 "nbformat_minor": 2
}
