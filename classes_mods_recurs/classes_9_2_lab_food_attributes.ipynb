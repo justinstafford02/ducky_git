{
 "cells": [
  {
   "cell_type": "code",
   "execution_count": null,
   "metadata": {},
   "outputs": [],
   "source": [
    "class FoodItem:\n",
    " def __init__(self, name: str = \"Water\", fat: float = 0.0, carbs: float = 0.0, protein: float = 0.0):\n",
    "        self.name = name\n",
    "        self.fat = fat\n",
    "        self.carbs = carbs\n",
    "        self.protein = protein          \n",
    "          \n",
    "    def get_calories(self, num_servings):\n",
    "        # Calorie formula\n",
    "        calories = ((self.fat * 9) + (self.carbs * 4) + (self.protein * 4)) * num_servings;\n",
    "        return calories\n",
    "       \n",
    "    def print_info(self):\n",
    "        print(f'Nutritional information per serving of {self.name}:')\n",
    "        print(f'  Fat: {self.fat:.2f} g')\n",
    "        print(f'  Carbohydrates: {self.carbs:.2f} g')\n",
    "        print(f'  Protein: {self.protein:.2f} g')\n",
    "\n",
    "if __name__ == \"__main__\":\n",
    "       \n",
    "    item_name = input()\n",
    "    if item_name == 'Water' or item_name == 'water':\n",
    "        food_item = FoodItem()\n",
    "        food_item.print_info()\n",
    "        print(f'Number of calories for {1.0:.2f} serving(s): {food_item.get_calories(1.0):.2f}')                       \n",
    "    \n",
    "    else:\n",
    "        amount_fat = float(input())\n",
    "        amount_carbs = float(input())\n",
    "        amount_protein = float(input())\n",
    "        num_servings = float(input())\n",
    "        \n",
    "        food_item = FoodItem(item_name, amount_fat, amount_carbs, amount_protein)\n",
    "        food_item.print_info()\n",
    "        print(f'Number of calories for {1.0:.2f} serving(s): {food_item.get_calories(1.0):.2f}')\n",
    "        print(f'Number of calories for {num_servings:.2f} serving(s): {food_item.get_calories(num_servings):.2f}')\n"
   ]
  }
 ],
 "metadata": {
  "language_info": {
   "name": "python"
  },
  "orig_nbformat": 4
 },
 "nbformat": 4,
 "nbformat_minor": 2
}
