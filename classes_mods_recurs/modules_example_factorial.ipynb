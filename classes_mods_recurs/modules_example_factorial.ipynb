{
 "cells": [
  {
   "cell_type": "code",
   "execution_count": null,
   "metadata": {},
   "outputs": [],
   "source": [
    "# example of how to use modules.  used with factorial \n",
    "#this would be a added to my_funct module and would be called my_funct.factorial(n)\n",
    "\n",
    "def factorial(num):\n",
    "    \"\"\"Calculates and returns the factorial (num!)\"\"\"\n",
    "    x = 1\n",
    "    for i in range(1, num + 1):\n",
    "        x *= i\n",
    "\n",
    "    return x\n"
   ]
  },
  {
   "cell_type": "code",
   "execution_count": null,
   "metadata": {},
   "outputs": [],
   "source": [
    "#you could now import my_funcs and use them here\n",
    "\n",
    "n = int(input('Enter number: '))\n",
    "fact = my_funcs.factorial(n)\n",
    "\n",
    "for i in range(1, n + 1):\n",
    "    print(i, end=' ')\n",
    "    if i != n:\n",
    "        print('*', end=' ')\n",
    "\n",
    "print(f'= {fact}')\n",
    "\n",
    "#Enter number: 5\n",
    "#1 * 2 * 3 * 4 * 5 = 120\n",
    "#Enter number: 3\n",
    "#1 * 2 * 3 = 6"
   ]
  },
  {
   "cell_type": "code",
   "execution_count": null,
   "metadata": {},
   "outputs": [],
   "source": [
    "import first\n",
    "\n",
    "def one(number):\n",
    "    return number ** 2\n",
    "\n",
    "def two(number):\n",
    "    return number * 6\n",
    "\n",
    "def three(number):\n",
    "    return one(number) - two(number)\n",
    "\n",
    "print(three(1))\n",
    "print(first.three(1))\n",
    "print(first.four(1))"
   ]
  }
 ],
 "metadata": {
  "language_info": {
   "name": "python"
  },
  "orig_nbformat": 4
 },
 "nbformat": 4,
 "nbformat_minor": 2
}
