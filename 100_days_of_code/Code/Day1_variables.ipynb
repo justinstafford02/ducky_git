{
 "cells": [
  {
   "cell_type": "code",
   "execution_count": 4,
   "metadata": {},
   "outputs": [
    {
     "name": "stdout",
     "output_type": "stream",
     "text": [
      "a: 6\n",
      "b: 9\n",
      "a: 9\n",
      "b: 6\n"
     ]
    }
   ],
   "source": [
    "# 🚨 Don't change the code below 👇\n",
    "a = input(\"a: \")\n",
    "b = input(\"b: \")\n",
    "# 🚨 Don't change the code above 👆\n",
    "\n",
    "####################################\n",
    "#Write your code below this line 👇\n",
    "print(\"a: \" + a)\n",
    "print(\"b: \" + b)\n",
    "c = (a,b)\n",
    "b = c[0]\n",
    "a = c[1]\n",
    "\n",
    "\n",
    "#Write your code above this line 👆\n",
    "####################################\n",
    "\n",
    "# 🚨 Don't change the code below 👇\n",
    "print(\"a: \" + a)\n",
    "print(\"b: \" + b)"
   ]
  }
 ],
 "metadata": {
  "kernelspec": {
   "display_name": "Python 3",
   "language": "python",
   "name": "python3"
  },
  "language_info": {
   "codemirror_mode": {
    "name": "ipython",
    "version": 3
   },
   "file_extension": ".py",
   "mimetype": "text/x-python",
   "name": "python",
   "nbconvert_exporter": "python",
   "pygments_lexer": "ipython3",
   "version": "3.10.9"
  },
  "orig_nbformat": 4,
  "vscode": {
   "interpreter": {
    "hash": "7e09721073e436e35d84ed4cdbbeb045311bd476b44317739da864ee086bb1be"
   }
  }
 },
 "nbformat": 4,
 "nbformat_minor": 2
}
