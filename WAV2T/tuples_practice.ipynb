{
 "cells": [
  {
   "cell_type": "code",
   "execution_count": 6,
   "metadata": {},
   "outputs": [
    {
     "name": "stdout",
     "output_type": "stream",
     "text": [
      "Coordinates: (38.8977, 77.0366)\n",
      "Tuple length: 2\n",
      "\n",
      "Latitude: 38.8977 north\n",
      "Longitude: 77.0366 west\n",
      "\n"
     ]
    }
   ],
   "source": [
    "white_house_coordinates = (38.8977, 77.0366)\n",
    "print(f'Coordinates: {white_house_coordinates}')\n",
    "print(f'Tuple length: {len(white_house_coordinates)}')\n",
    "\n",
    "# Access tuples via index\n",
    "print(f'\\nLatitude: {white_house_coordinates[0]} north')\n",
    "print(f'Longitude: {white_house_coordinates[1]} west\\n')"
   ]
  }
 ],
 "metadata": {
  "kernelspec": {
   "display_name": "Python 3",
   "language": "python",
   "name": "python3"
  },
  "language_info": {
   "codemirror_mode": {
    "name": "ipython",
    "version": 3
   },
   "file_extension": ".py",
   "mimetype": "text/x-python",
   "name": "python",
   "nbconvert_exporter": "python",
   "pygments_lexer": "ipython3",
   "version": "3.10.9 (tags/v3.10.9:1dd9be6, Dec  6 2022, 20:01:21) [MSC v.1934 64 bit (AMD64)]"
  },
  "orig_nbformat": 4,
  "vscode": {
   "interpreter": {
    "hash": "7e09721073e436e35d84ed4cdbbeb045311bd476b44317739da864ee086bb1be"
   }
  }
 },
 "nbformat": 4,
 "nbformat_minor": 2
}
