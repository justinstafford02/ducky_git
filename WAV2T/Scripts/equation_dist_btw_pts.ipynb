{
 "cells": [
  {
   "cell_type": "code",
   "execution_count": 6,
   "metadata": {},
   "outputs": [
    {
     "name": "stdout",
     "output_type": "stream",
     "text": [
      "Points distance: 2.8\n"
     ]
    }
   ],
   "source": [
    "import math\n",
    "\n",
    "x1 = float(input())\n",
    "y1 = float(input())\n",
    "x2 = float(input())\n",
    "y2 = float(input())\n",
    "\n",
    "point_dist = math.sqrt(((x2 - x1)**2) + (y2-y1)**2)\n",
    "\n",
    "print(f'Points distance: {point_dist:.1f}')"
   ]
  }
 ],
 "metadata": {
  "kernelspec": {
   "display_name": "Python 3",
   "language": "python",
   "name": "python3"
  },
  "language_info": {
   "codemirror_mode": {
    "name": "ipython",
    "version": 3
   },
   "file_extension": ".py",
   "mimetype": "text/x-python",
   "name": "python",
   "nbconvert_exporter": "python",
   "pygments_lexer": "ipython3",
   "version": "3.10.9 (tags/v3.10.9:1dd9be6, Dec  6 2022, 20:01:21) [MSC v.1934 64 bit (AMD64)]"
  },
  "orig_nbformat": 4,
  "vscode": {
   "interpreter": {
    "hash": "7e09721073e436e35d84ed4cdbbeb045311bd476b44317739da864ee086bb1be"
   }
  }
 },
 "nbformat": 4,
 "nbformat_minor": 2
}
