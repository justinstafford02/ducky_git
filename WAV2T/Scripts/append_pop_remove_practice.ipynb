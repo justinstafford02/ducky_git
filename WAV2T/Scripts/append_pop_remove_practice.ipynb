{
 "cells": [
  {
   "cell_type": "code",
   "execution_count": 24,
   "metadata": {},
   "outputs": [
    {
     "name": "stdout",
     "output_type": "stream",
     "text": [
      "[10, 'bw']\n",
      "After append: [10, 'bw', 'abc']\n",
      "After pop: [10, 'abc']\n"
     ]
    }
   ],
   "source": [
    "my_list = [10, 'bw']\n",
    "print(my_list)\n",
    "\n",
    "my_list.append('abc')\n",
    "print(f'After append: {my_list}')\n",
    "\n",
    "my_list.pop(1)\n",
    "print(f'After pop: {my_list}')"
   ]
  }
 ],
 "metadata": {
  "kernelspec": {
   "display_name": "Python 3",
   "language": "python",
   "name": "python3"
  },
  "language_info": {
   "codemirror_mode": {
    "name": "ipython",
    "version": 3
   },
   "file_extension": ".py",
   "mimetype": "text/x-python",
   "name": "python",
   "nbconvert_exporter": "python",
   "pygments_lexer": "ipython3",
   "version": "3.10.9 (tags/v3.10.9:1dd9be6, Dec  6 2022, 20:01:21) [MSC v.1934 64 bit (AMD64)]"
  },
  "orig_nbformat": 4,
  "vscode": {
   "interpreter": {
    "hash": "7e09721073e436e35d84ed4cdbbeb045311bd476b44317739da864ee086bb1be"
   }
  }
 },
 "nbformat": 4,
 "nbformat_minor": 2
}
