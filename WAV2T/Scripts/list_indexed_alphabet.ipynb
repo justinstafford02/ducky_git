{
 "cells": [
  {
   "cell_type": "code",
   "execution_count": null,
   "metadata": {},
   "outputs": [],
   "source": [
    "alphabet = \"ABCDEFGHIJKLMNOPQRSTUVWXYZ\"\n",
    "\n",
    "user_number = int(input('Enter number to use as index: '))\n",
    "print()\n",
    "\n",
    "print('\\nThe letter at index', user_number, 'of the alphabet is', alphabet[user_number])"
   ]
  }
 ],
 "metadata": {
  "language_info": {
   "name": "python"
  },
  "orig_nbformat": 4
 },
 "nbformat": 4,
 "nbformat_minor": 2
}
