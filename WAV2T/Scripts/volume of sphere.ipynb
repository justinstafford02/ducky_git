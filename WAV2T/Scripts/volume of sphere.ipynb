{
 "cells": [
  {
   "cell_type": "code",
   "execution_count": 4,
   "metadata": {},
   "outputs": [
    {
     "name": "stdout",
     "output_type": "stream",
     "text": [
      "Sphere volume: 4.19\n"
     ]
    }
   ],
   "source": [
    "\n",
    "pi = 3.14159\n",
    "sphere_volume = 0.0\n",
    "\n",
    "sphere_radius = float(input())\n",
    "import math\n",
    "sphere_volume = math.pow(sphere_radius, 3)*pi*(4/3)\n",
    "\n",
    "print(f'Sphere volume: {sphere_volume:.2f}')"
   ]
  }
 ],
 "metadata": {
  "kernelspec": {
   "display_name": "Python 3",
   "language": "python",
   "name": "python3"
  },
  "language_info": {
   "codemirror_mode": {
    "name": "ipython",
    "version": 3
   },
   "file_extension": ".py",
   "mimetype": "text/x-python",
   "name": "python",
   "nbconvert_exporter": "python",
   "pygments_lexer": "ipython3",
   "version": "3.10.9"
  },
  "orig_nbformat": 4,
  "vscode": {
   "interpreter": {
    "hash": "7e09721073e436e35d84ed4cdbbeb045311bd476b44317739da864ee086bb1be"
   }
  }
 },
 "nbformat": 4,
 "nbformat_minor": 2
}
