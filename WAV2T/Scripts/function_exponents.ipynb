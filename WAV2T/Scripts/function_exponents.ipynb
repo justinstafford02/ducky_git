{
 "cells": [
  {
   "cell_type": "code",
   "execution_count": 1,
   "metadata": {},
   "outputs": [
    {
     "name": "stdout",
     "output_type": "stream",
     "text": [
      "[2, 4, 8, 3, 9, 27, 4, 16, 64]\n"
     ]
    }
   ],
   "source": [
    "def exponents(base, power):\n",
    "    new_list = []\n",
    "    for i in base:\n",
    "        for j in power:\n",
    "            new_list.append(i ** j)\n",
    "    return new_list\n",
    "print(exponents([2, 3, 4], [1, 2, 3]))\n",
    "\n"
   ]
  }
 ],
 "metadata": {
  "kernelspec": {
   "display_name": "Python 3",
   "language": "python",
   "name": "python3"
  },
  "language_info": {
   "codemirror_mode": {
    "name": "ipython",
    "version": 3
   },
   "file_extension": ".py",
   "mimetype": "text/x-python",
   "name": "python",
   "nbconvert_exporter": "python",
   "pygments_lexer": "ipython3",
   "version": "3.11.1 (tags/v3.11.1:a7a450f, Dec  6 2022, 19:58:39) [MSC v.1934 64 bit (AMD64)]"
  },
  "orig_nbformat": 4,
  "vscode": {
   "interpreter": {
    "hash": "4c4a3c6585647fea4a20f24b44be65ecfaf80ad5245fc9f49e4ad0d4ab0d6cf2"
   }
  }
 },
 "nbformat": 4,
 "nbformat_minor": 2
}
