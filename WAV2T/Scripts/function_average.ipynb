{
 "cells": [
  {
   "cell_type": "code",
   "execution_count": 6,
   "metadata": {},
   "outputs": [
    {
     "name": "stdout",
     "output_type": "stream",
     "text": [
      "Average sales: 3.33\n"
     ]
    }
   ],
   "source": [
    "avg_sales = 0\n",
    "\n",
    "num_sales1 = int(input())\n",
    "num_sales2 = int(input())\n",
    "num_sales3 = int(input())\n",
    "list = [num_sales1, num_sales2, num_sales3]\n",
    "avg_sales += (num_sales1 + num_sales2 + num_sales3)/len(list)\n",
    "\n",
    "print(f'Average sales: {avg_sales:.2f}')"
   ]
  }
 ],
 "metadata": {
  "kernelspec": {
   "display_name": "Python 3",
   "language": "python",
   "name": "python3"
  },
  "language_info": {
   "codemirror_mode": {
    "name": "ipython",
    "version": 3
   },
   "file_extension": ".py",
   "mimetype": "text/x-python",
   "name": "python",
   "nbconvert_exporter": "python",
   "pygments_lexer": "ipython3",
   "version": "3.10.9"
  },
  "orig_nbformat": 4,
  "vscode": {
   "interpreter": {
    "hash": "7e09721073e436e35d84ed4cdbbeb045311bd476b44317739da864ee086bb1be"
   }
  }
 },
 "nbformat": 4,
 "nbformat_minor": 2
}
